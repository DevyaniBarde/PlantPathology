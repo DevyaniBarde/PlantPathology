{
 "cells": [
  {
   "cell_type": "code",
   "execution_count": 1,
   "metadata": {},
   "outputs": [
    {
     "name": "stdout",
     "output_type": "stream",
     "text": [
      "Number of ouput classes:  12\n",
      "['scab', 'healthy', 'frog_eye_leaf_spot', 'rust', 'complex', 'powdery_mildew', 'scab frog_eye_leaf_spot', 'scab frog_eye_leaf_spot complex', 'frog_eye_leaf_spot complex', 'rust frog_eye_leaf_spot', 'rust complex', 'powdery_mildew complex']\n",
      "[4826, 4624, 3181, 1860, 1602, 1184, 686, 200, 165, 120, 97, 87]\n"
     ]
    }
   ],
   "source": [
    "#importing required libraries\n",
    "import numpy as np\n",
    "import pandas as pd\n",
    "import tensorflow as tf\n",
    "import cv2\n",
    "import matplotlib.pyplot as plt\n",
    "\n",
    "#Training data\n",
    "img_path = \"./train_images\"\n",
    "train_dataframe = pd.read_csv(\"./train.csv\")\n",
    "\n",
    "#getting different output classes\n",
    "no_labels = train_dataframe.labels.value_counts()\n",
    "output_classes = list(no_labels.index)\n",
    "classes = list(no_labels.values)\n",
    "print(\"Number of ouput classes: \",len(output_classes))\n",
    "print(output_classes)\n",
    "print(classes)"
   ]
  },
  {
   "cell_type": "code",
   "execution_count": 2,
   "metadata": {},
   "outputs": [
    {
     "name": "stdout",
     "output_type": "stream",
     "text": [
      "Found 14906 non-validated image filenames belonging to 12 classes.\n",
      "Found 3726 non-validated image filenames belonging to 12 classes.\n"
     ]
    }
   ],
   "source": [
    "from tensorflow.keras.preprocessing.image import ImageDataGenerator\n",
    "train_datagen = ImageDataGenerator(\n",
    "    rescale = 1/255.,\n",
    "    rotation_range=20,\n",
    "    width_shift_range=0.2,\n",
    "    height_shift_range=0.2,\n",
    "    horizontal_flip=True,\n",
    "    validation_split = 0.2,\n",
    "    zoom_range = 0.2,\n",
    "    shear_range = 0.2,\n",
    "    vertical_flip = False\n",
    ")\n",
    "size = 124;\n",
    "#selecting 80% of the data as training data\n",
    "train_dataset  = train_datagen.flow_from_dataframe(\n",
    "    train_dataframe,\n",
    "    directory = img_path,\n",
    "    x_col = \"image\",\n",
    "    y_col = \"labels\",\n",
    "    target_size = (size,size),\n",
    "    class_mode='categorical',\n",
    "    batch_size = 32,\n",
    "    validation_split = 0.2,\n",
    "    subset = \"training\",\n",
    "    shuffle = True,\n",
    "    seed = 143,\n",
    "    validate_filenames = False\n",
    ")\n",
    "#Remaining 20% as validation data\n",
    "validation_dataset  = train_datagen.flow_from_dataframe(\n",
    "    train_dataframe,\n",
    "    directory = img_path,\n",
    "    x_col = \"image\",\n",
    "    y_col = \"labels\",\n",
    "    target_size = (size,size),\n",
    "    class_mode='categorical',\n",
    "    batch_size = 32,\n",
    "    validation_split = 0.2,\n",
    "    subset = \"validation\",\n",
    "    shuffle = True,\n",
    "    seed = 143,\n",
    "    validate_filenames = False\n",
    ")"
   ]
  },
  {
   "cell_type": "code",
   "execution_count": 3,
   "metadata": {},
   "outputs": [],
   "source": [
    "#CNN Model\n",
    "model = tf.keras.Sequential()\n",
    "model.add(tf.keras.layers.Conv2D(64,(3,3),activation='relu',padding='same',input_shape=(size,size,3)))\n",
    "model.add(tf.keras.layers.MaxPooling2D(2,2))\n",
    "model.add(tf.keras.layers.Conv2D(64,(3,3),activation='relu',padding='same'))\n",
    "model.add(tf.keras.layers.MaxPooling2D(2,2))\n",
    "model.add(tf.keras.layers.Conv2D(64,(3,3),activation='relu',padding='same'))\n",
    "model.add(tf.keras.layers.MaxPooling2D(2,2))\n",
    "model.add(tf.keras.layers.Conv2D(128,(3,3),activation='relu',padding='same'))\n",
    "model.add(tf.keras.layers.MaxPooling2D(2,2))\n",
    "model.add(tf.keras.layers.Flatten())\n",
    "model.add(tf.keras.layers.Dense(12,activation='softmax'))\n",
    "\n",
    "model.compile(optimizer=tf.keras.optimizers.Adam(learning_rate=0.001),\n",
    "    loss='categorical_crossentropy',\n",
    "    metrics=['accuracy'])"
   ]
  },
  {
   "cell_type": "code",
   "execution_count": 4,
   "metadata": {},
   "outputs": [
    {
     "name": "stdout",
     "output_type": "stream",
     "text": [
      "Epoch 1/10\n",
      "116/116 [==============================] - 547s 5s/step - loss: 1.9853 - accuracy: 0.2462 - val_loss: 1.8217 - val_accuracy: 0.2511\n",
      "\n",
      "Epoch 00001: val_loss improved from inf to 1.82173, saving model to .\\models\n",
      "INFO:tensorflow:Assets written to: .\\models\\assets\n",
      "Epoch 2/10\n",
      "116/116 [==============================] - 538s 5s/step - loss: 1.8076 - accuracy: 0.3032 - val_loss: 1.7859 - val_accuracy: 0.3427\n",
      "\n",
      "Epoch 00002: val_loss improved from 1.82173 to 1.78592, saving model to .\\models\n",
      "INFO:tensorflow:Assets written to: .\\models\\assets\n",
      "Epoch 3/10\n",
      "116/116 [==============================] - 533s 5s/step - loss: 1.7760 - accuracy: 0.3112 - val_loss: 1.7079 - val_accuracy: 0.3621\n",
      "\n",
      "Epoch 00003: val_loss improved from 1.78592 to 1.70791, saving model to .\\models\n",
      "INFO:tensorflow:Assets written to: .\\models\\assets\n",
      "Epoch 4/10\n",
      "116/116 [==============================] - 528s 5s/step - loss: 1.7172 - accuracy: 0.3507 - val_loss: 1.6262 - val_accuracy: 0.3998\n",
      "\n",
      "Epoch 00004: val_loss improved from 1.70791 to 1.62622, saving model to .\\models\n",
      "INFO:tensorflow:Assets written to: .\\models\\assets\n",
      "Epoch 5/10\n",
      "116/116 [==============================] - 526s 5s/step - loss: 1.6991 - accuracy: 0.3553 - val_loss: 1.6303 - val_accuracy: 0.3610\n",
      "\n",
      "Epoch 00005: val_loss did not improve from 1.62622\n",
      "Epoch 6/10\n",
      "116/116 [==============================] - 523s 5s/step - loss: 1.6438 - accuracy: 0.4005 - val_loss: 1.6275 - val_accuracy: 0.4062\n",
      "\n",
      "Epoch 00006: val_loss did not improve from 1.62622\n",
      "Epoch 7/10\n",
      "116/116 [==============================] - 521s 5s/step - loss: 1.6820 - accuracy: 0.3788 - val_loss: 1.5452 - val_accuracy: 0.4353\n",
      "\n",
      "Epoch 00007: val_loss improved from 1.62622 to 1.54524, saving model to .\\models\n",
      "INFO:tensorflow:Assets written to: .\\models\\assets\n",
      "Epoch 8/10\n",
      "116/116 [==============================] - 519s 4s/step - loss: 1.5827 - accuracy: 0.4195 - val_loss: 1.4382 - val_accuracy: 0.4871\n",
      "\n",
      "Epoch 00008: val_loss improved from 1.54524 to 1.43818, saving model to .\\models\n",
      "INFO:tensorflow:Assets written to: .\\models\\assets\n",
      "Epoch 9/10\n",
      "116/116 [==============================] - 518s 4s/step - loss: 1.5027 - accuracy: 0.4612 - val_loss: 1.2953 - val_accuracy: 0.5420\n",
      "\n",
      "Epoch 00009: val_loss improved from 1.43818 to 1.29533, saving model to .\\models\n",
      "INFO:tensorflow:Assets written to: .\\models\\assets\n",
      "Epoch 10/10\n",
      "116/116 [==============================] - 519s 4s/step - loss: 1.4329 - accuracy: 0.4869 - val_loss: 1.2352 - val_accuracy: 0.5927\n",
      "\n",
      "Epoch 00010: val_loss improved from 1.29533 to 1.23522, saving model to .\\models\n",
      "INFO:tensorflow:Assets written to: .\\models\\assets\n"
     ]
    }
   ],
   "source": [
    "\n",
    "chkpt=tf.keras.callbacks.ModelCheckpoint('./models',\n",
    "                          monitor='val_loss',\n",
    "                          mode='min',\n",
    "                          save_best_only=True,\n",
    "                          verbose=1)\n",
    "stop=tf.keras.callbacks.EarlyStopping(monitor='val_loss',\n",
    "                       min_delta=0,\n",
    "                       patience=10,\n",
    "                       verbose=1,\n",
    "                       restore_best_weights=True)\n",
    "\n",
    "callbacks=[chkpt,stop]\n",
    "\n",
    "model_history=model.fit(train_dataset,validation_data=validation_dataset,\n",
    "                                 epochs=10,\n",
    "                                 steps_per_epoch=train_dataset.samples//128,\n",
    "                                 validation_steps=validation_dataset.samples//128,\n",
    "                                 callbacks=callbacks)"
   ]
  },
  {
   "cell_type": "code",
   "execution_count": 6,
   "metadata": {},
   "outputs": [
    {
     "name": "stdout",
     "output_type": "stream",
     "text": [
      "Found 3 validated image filenames.\n"
     ]
    }
   ],
   "source": [
    "test_dataframe = pd.read_csv(\"./sample_submission.csv\")\n",
    "test_datagen = ImageDataGenerator(rescale = 1./255)\n",
    "sz = (124,124,3)\n",
    "test_data =  test_datagen.flow_from_dataframe(\n",
    "    test_dataframe,\n",
    "    directory=\"./test_images\",\n",
    "    x_col='image',\n",
    "    y_col=None,\n",
    "    class_mode=None,\n",
    "    target_size=sz[:2]\n",
    ")\n",
    "predictions = model.predict(test_data)"
   ]
  },
  {
   "cell_type": "code",
   "execution_count": 7,
   "metadata": {},
   "outputs": [],
   "source": [
    "def get_index(x):\n",
    "    for a,y in train_dataset.class_indices.items():\n",
    "        if x == y:\n",
    "            return a"
   ]
  },
  {
   "cell_type": "code",
   "execution_count": 8,
   "metadata": {},
   "outputs": [],
   "source": [
    "def predict_labels(predictions):\n",
    "    pred_labels = []\n",
    "    for p in predictions:\n",
    "        pred_label = []\n",
    "        z = (p>=0.4)\n",
    "        \n",
    "        if z.sum() == 0:\n",
    "            pred_label.append('healthy')\n",
    "        elif p[2] >= 0.5:\n",
    "            pred_label.append('healthy')\n",
    "            \n",
    "        else:\n",
    "            for i,j in enumerate(p):\n",
    "                if j >= 0.28:\n",
    "                    pred_label.append(get_index(i))\n",
    "        \n",
    "        pred_labels.append(' '.join(pred_label))\n",
    "    return pred_labels"
   ]
  },
  {
   "cell_type": "code",
   "execution_count": 9,
   "metadata": {},
   "outputs": [
    {
     "data": {
      "text/html": [
       "<div>\n",
       "<style scoped>\n",
       "    .dataframe tbody tr th:only-of-type {\n",
       "        vertical-align: middle;\n",
       "    }\n",
       "\n",
       "    .dataframe tbody tr th {\n",
       "        vertical-align: top;\n",
       "    }\n",
       "\n",
       "    .dataframe thead th {\n",
       "        text-align: right;\n",
       "    }\n",
       "</style>\n",
       "<table border=\"1\" class=\"dataframe\">\n",
       "  <thead>\n",
       "    <tr style=\"text-align: right;\">\n",
       "      <th></th>\n",
       "      <th>image</th>\n",
       "      <th>labels</th>\n",
       "    </tr>\n",
       "  </thead>\n",
       "  <tbody>\n",
       "    <tr>\n",
       "      <th>0</th>\n",
       "      <td>85f8cb619c66b863.jpg</td>\n",
       "      <td>healthy</td>\n",
       "    </tr>\n",
       "    <tr>\n",
       "      <th>1</th>\n",
       "      <td>ad8770db05586b59.jpg</td>\n",
       "      <td>frog_eye_leaf_spot</td>\n",
       "    </tr>\n",
       "    <tr>\n",
       "      <th>2</th>\n",
       "      <td>c7b03e718489f3ca.jpg</td>\n",
       "      <td>rust</td>\n",
       "    </tr>\n",
       "  </tbody>\n",
       "</table>\n",
       "</div>"
      ],
      "text/plain": [
       "                  image              labels\n",
       "0  85f8cb619c66b863.jpg             healthy\n",
       "1  ad8770db05586b59.jpg  frog_eye_leaf_spot\n",
       "2  c7b03e718489f3ca.jpg                rust"
      ]
     },
     "execution_count": 9,
     "metadata": {},
     "output_type": "execute_result"
    }
   ],
   "source": [
    "test_dataframe['labels'] = predict_labels(predictions)\n",
    "test_dataframe.head()"
   ]
  },
  {
   "cell_type": "code",
   "execution_count": 10,
   "metadata": {},
   "outputs": [],
   "source": [
    "test_dataframe.to_csv('submission.csv')"
   ]
  },
  {
   "cell_type": "code",
   "execution_count": null,
   "metadata": {},
   "outputs": [],
   "source": []
  }
 ],
 "metadata": {
  "kernelspec": {
   "display_name": "Python 3",
   "language": "python",
   "name": "python3"
  },
  "language_info": {
   "codemirror_mode": {
    "name": "ipython",
    "version": 3
   },
   "file_extension": ".py",
   "mimetype": "text/x-python",
   "name": "python",
   "nbconvert_exporter": "python",
   "pygments_lexer": "ipython3",
   "version": "3.8.5"
  }
 },
 "nbformat": 4,
 "nbformat_minor": 4
}
